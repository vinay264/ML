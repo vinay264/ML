{
 "cells": [
  {
   "cell_type": "markdown",
   "metadata": {
    "id": "uEwq36nucV3c"
   },
   "source": [
    "## Implemention of logistic regression"
   ]
  },
  {
   "cell_type": "code",
   "execution_count": 1,
   "metadata": {
    "id": "FJDT0TobPQBF"
   },
   "outputs": [],
   "source": [
    "import numpy as np\n",
    "import pandas as pd\n",
    "\n",
    "class LogisticRegressor:\n",
    "    def __init__(self, X, y, lr, iter):\n",
    "        self.X = X\n",
    "        self.y = y\n",
    "        self.lr = lr\n",
    "        self.iter = iter\n",
    "        self.n_ex = X.shape[0]\n",
    "        self.n_feat = X.shape[1]\n",
    "        self.w = np.zeros((self.n_feat, 1))\n",
    "        self.b = 0 \n",
    "\n",
    "    def sigmoid_fn(self, Z):\n",
    "        sigma = 1/(1+np.exp(-Z))\n",
    "        return sigma\n",
    "        \n",
    "    def grad_ascent(self, X, y, learning_rate, n_iter):\n",
    "        y = np.atleast_2d(y)   \n",
    "        \n",
    "        for i in range(n_iter):\n",
    "            sigma = self.sigmoid_fn(np.dot(X, self.w) + self.b)        \n",
    "            \n",
    "            grads = np.dot((y.T - sigma).T, X).T \n",
    "        \n",
    "            self.w = self.w + learning_rate * grads     \n",
    "            \n",
    "            self.b = self.b + np.sum(y.T - sigma) / self.n_ex\n",
    "        print('Weights: \\n', self.w.T)\n",
    "        print('Bias:', self.b)\n",
    "\n",
    "    def fit(self):\n",
    "        self.grad_ascent(self.X, self.y, self.lr, self.iter)\n",
    "    \n",
    "    def predict(self, X):\n",
    "        sigma = self.sigmoid_fn(np.dot(X, self.w) + self.b)\n",
    "        size = sigma.shape[0]\n",
    "        y_pred = [0]*size\n",
    "\n",
    "        for i in range(size):\n",
    "            if sigma[i] > 0.5:\n",
    "                y_pred[i] = 1\n",
    "        return y_pred"
   ]
  },
  {
   "cell_type": "code",
   "execution_count": 2,
   "metadata": {},
   "outputs": [
    {
     "name": "stdout",
     "output_type": "stream",
     "text": [
      "Weights: \n",
      " [[0.15774256 2.21189715 1.22286512]]\n",
      "Bias: -1.1207162134545934\n",
      "\n",
      "Accuracy for train data: 83.125 %\n",
      "Accuracy for test data: 88.75 %\n"
     ]
    }
   ],
   "source": [
    "from sklearn.model_selection import train_test_split\n",
    "\n",
    "def accuracy(y_pred, y):\n",
    "    total = y.shape[0]\n",
    "    count = 0 \n",
    "    for i in range(total):\n",
    "        if y_pred[i] == y[i]:\n",
    "            count += 1\n",
    "    return 100 * count/total\n",
    "\n",
    "def standardize(X):\n",
    "    for j in range(X.shape[1]):\n",
    "        mean = np.mean(X[:, j])\n",
    "        sd = np.std(X[:, j])\n",
    "        X[:, j] = (X[:, j] - mean)/sd\n",
    "\n",
    "df = pd.read_csv(\"Social_Network_Ads.csv\")\n",
    "\n",
    "df[\"Gender\"] = np.where(df[\"Gender\"] == \"Female\", 0, 1)\n",
    "\n",
    "X = np.asarray(df[['Gender', 'Age', 'EstimatedSalary']]).astype('float64')\n",
    "\n",
    "standardize(X)\n",
    "\n",
    "y = np.asarray(df[\"Purchased\"])\n",
    "\n",
    "X_train, X_test, y_train, y_test = train_test_split(X, y, test_size=0.2, \n",
    "                                                    random_state=42)\n",
    "\n",
    "learning_rate = 0.001\n",
    "iterations = 1000\n",
    "\n",
    "lr = LogisticRegressor(X_train, y_train, learning_rate, iterations)\n",
    "lr.fit()\n",
    "\n",
    "y_pred_tr = lr.predict(X_train)\n",
    "\n",
    "accuracy_tr = accuracy(y_pred_tr, y_train)\n",
    "print('\\nAccuracy for train data:', accuracy_tr, '%')\n",
    "\n",
    "y_pred_te = lr.predict(X_test)\n",
    "\n",
    "accuracy_te = accuracy(y_pred_te, y_test)\n",
    "print('Accuracy for test data:', accuracy_te, '%')"
   ]
  },
  {
   "cell_type": "code",
   "execution_count": 3,
   "metadata": {},
   "outputs": [
    {
     "name": "stdout",
     "output_type": "stream",
     "text": [
      "Weights: \n",
      " [[0.14342407 2.27397988 1.13995842]]\n",
      "Bias: [-1.07062084]\n",
      "\n",
      "Accuracy on train data: 84.0625 %\n",
      "Accuracy on test data: 90.0 %\n"
     ]
    }
   ],
   "source": [
    "#from inbuilt functions\n",
    "\n",
    "from sklearn.linear_model import LogisticRegression\n",
    "\n",
    "lr1 = LogisticRegression(solver='liblinear')\n",
    "lr1.fit(X, y)\n",
    "\n",
    "y_pred1_tr = lr1.predict(X_train)\n",
    "y_pred1_te = lr1.predict(X_test)\n",
    "\n",
    "print('Weights: \\n', lr1.coef_)\n",
    "print('Bias:', lr1.intercept_)\n",
    "\n",
    "score_tr = lr1.score(X_train, y_train)\n",
    "print('\\nAccuracy on train data:', score_tr*100, '%')\n",
    "\n",
    "score_te = lr1.score(X_test, y_test)\n",
    "print('Accuracy on test data:', score_te*100, '%')"
   ]
  }
 ],
 "metadata": {
  "colab": {
   "provenance": [
    {
     "file_id": "1VsQl8IvG2X5VvgLiH58ZKkxFsRHAZC6v",
     "timestamp": 1668500476314
    },
    {
     "file_id": "1E7Rb6ObELwlm__kvrh_a3U4d97EfTHwL",
     "timestamp": 1668498084136
    }
   ]
  },
  "kernelspec": {
   "display_name": "Python 3 (ipykernel)",
   "language": "python",
   "name": "python3"
  },
  "language_info": {
   "codemirror_mode": {
    "name": "ipython",
    "version": 3
   },
   "file_extension": ".py",
   "mimetype": "text/x-python",
   "name": "python",
   "nbconvert_exporter": "python",
   "pygments_lexer": "ipython3",
   "version": "3.9.12"
  }
 },
 "nbformat": 4,
 "nbformat_minor": 1
}
